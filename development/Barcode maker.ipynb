{
 "cells": [
  {
   "cell_type": "code",
   "execution_count": 1,
   "id": "1f5cfc37",
   "metadata": {},
   "outputs": [],
   "source": [
    "import os\n",
    "import re\n",
    "import cv2\n",
    "import numpy as np"
   ]
  },
  {
   "cell_type": "code",
   "execution_count": 2,
   "id": "5c1f0ea0",
   "metadata": {},
   "outputs": [],
   "source": [
    "def extract_video_frames(path_in):\n",
    "    \n",
    "    # Extract name of the video file and create a new directory to store the extracted frames\n",
    "    video_name = path_in[:path_in.rfind(\".\")].strip()\n",
    "    video_name = \"{} frames\".format(video_name)\n",
    "    os.mkdir(video_name)\n",
    "    path_out = video_name\n",
    "\n",
    "    # Initialize video capture object\n",
    "    vidcap = cv2.VideoCapture(path_in) \n",
    "\n",
    "    count = 0\n",
    "    success = True\n",
    "\n",
    "    # Loop through frames in the video file and extract each frame as a PNG image file\n",
    "    while success:\n",
    "        # Set the position of the video capture object to the current frame\n",
    "        vidcap.set(cv2.CAP_PROP_POS_MSEC,(count*5000))\n",
    "        # Read the frame and check if the read was successful\n",
    "        success,image = vidcap.read() \n",
    "\n",
    "        if not success:\n",
    "            # If the read was not successful, print the number of frames read and exit the loop\n",
    "            print(\"{} frames read.\".format(count))\n",
    "            break\n",
    "\n",
    "        # Save the current frame as a PNG image file\n",
    "        cv2.imwrite(os.path.join(path_out, \"frame%d.png\" % count), image) \n",
    "        count = count + 1\n",
    "\n",
    "    # Return the path to the directory containing the extracted frames\n",
    "    return path_out"
   ]
  },
  {
   "cell_type": "code",
   "execution_count": 3,
   "id": "1f33457f",
   "metadata": {},
   "outputs": [],
   "source": [
    "def make_barcode(frames_dir, bar_width = 1, dims = None):\n",
    "    \n",
    "    # Get a list of all the image files in the given directory and sort them\n",
    "    frame_files = sorted([f for f in os.listdir(os.path.join(frames_dir)) if f.endswith('.png') or f.endswith('.jpg')])\n",
    "    \n",
    "    # Sort the list of image files by their numeric index in the filename\n",
    "    frame_files.sort(key = lambda f: int(re.sub('\\D', '', f)))\n",
    "    \n",
    "    # Calculate the dimensions of the resulting barcode image\n",
    "    barcode_width = bar_width * len(frame_files)\n",
    "    barcode_height = cv2.imread(os.path.join(frames_dir, frame_files[0]), cv2.IMREAD_UNCHANGED).shape[0]\n",
    "    \n",
    "    # Create an empty numpy array to hold the barcode image\n",
    "    barcode = np.zeros((barcode_height, barcode_width, 3), np.uint8)\n",
    "    \n",
    "    # Loop through the image files and add them to the barcode image\n",
    "    for i, f in zip(range(0, barcode_width, bar_width), frame_files):\n",
    "       \n",
    "        frame_path = os.path.join(frames_dir, f) # Load the image file\n",
    "        frame = cv2.imread(frame_path, cv2.IMREAD_UNCHANGED)\n",
    "        \n",
    "        # Resize the image to the desired width and add it to the barcode image\n",
    "        bar = cv2.resize(frame, (bar_width, barcode_height), interpolation = cv2.INTER_AREA)\n",
    "        barcode[:,i:(i+bar_width)] = bar\n",
    "\n",
    "    # Set the output filename for the barcode image\n",
    "    filename = os.path.splitext(os.path.basename(frames_dir))[0] + \"-5s-barcode.png\"\n",
    "    \n",
    "    # Save the barcode image to disk and display it\n",
    "    cv2.imwrite(filename, barcode)\n",
    "\n",
    "    # Return the filename of the generated barcode image\n",
    "    return filename\n",
    "  "
   ]
  },
  {
   "cell_type": "code",
   "execution_count": 4,
   "id": "5f37888f",
   "metadata": {},
   "outputs": [
    {
     "name": "stdout",
     "output_type": "stream",
     "text": [
      "131 frames read.\n",
      "Barcode generated for Bliss.mkv: Bliss frames-5s-barcode.png\n",
      "133 frames read.\n",
      "Barcode generated for Nightmares.mkv: Nightmares frames-5s-barcode.png\n",
      "135 frames read.\n",
      "Barcode generated for Paradise.mkv: Paradise frames-5s-barcode.png\n",
      "138 frames read.\n",
      "Barcode generated for Coping.mkv: Coping frames-5s-barcode.png\n",
      "138 frames read.\n",
      "Barcode generated for Dreams.mkv: Dreams frames-5s-barcode.png\n"
     ]
    }
   ],
   "source": [
    "# List of video files\n",
    "video_files = [\"Bliss.mkv\", \"Nightmares.mkv\", \"Paradise.mkv\", \"Coping.mkv\", \"Dreams.mkv\"]\n",
    "\n",
    "# Loop through each video file\n",
    "for video_file in video_files:\n",
    "    # Extract frames from the video\n",
    "    frames_dir = extract_video_frames(video_file)\n",
    "    # Generate barcode from the extracted frames\n",
    "    barcode_file = make_barcode(frames_dir)\n",
    "    # Print the filename of the generated barcode image\n",
    "    print(\"Barcode generated for {}: {}\".format(video_file, barcode_file))\n"
   ]
  }
 ],
 "metadata": {
  "kernelspec": {
   "display_name": "Python 3 (ipykernel)",
   "language": "python",
   "name": "python3"
  },
  "language_info": {
   "codemirror_mode": {
    "name": "ipython",
    "version": 3
   },
   "file_extension": ".py",
   "mimetype": "text/x-python",
   "name": "python",
   "nbconvert_exporter": "python",
   "pygments_lexer": "ipython3",
   "version": "3.9.12"
  }
 },
 "nbformat": 4,
 "nbformat_minor": 5
}
