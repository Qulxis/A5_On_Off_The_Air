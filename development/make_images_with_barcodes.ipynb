{
 "cells": [
  {
   "attachments": {},
   "cell_type": "markdown",
   "metadata": {},
   "source": [
    "# Create Images+barcode as Single Image\n",
    "This script is used to combine images and their color pallets given the order of images in each folder are the same ie image_1 in the first folder corresponds to the first color barcode in the second folder."
   ]
  },
  {
   "cell_type": "code",
   "execution_count": 16,
   "metadata": {},
   "outputs": [],
   "source": [
    "from PIL import Image\n",
    "import numpy as np\n",
    "import os\n"
   ]
  },
  {
   "cell_type": "code",
   "execution_count": 17,
   "metadata": {},
   "outputs": [
    {
     "name": "stdout",
     "output_type": "stream",
     "text": [
      "c:\\D_drive\\Columbia 2023\\Data Visualization\\Final Project\n"
     ]
    }
   ],
   "source": [
    "#display cwd\n",
    "print(os.getcwd())"
   ]
  },
  {
   "attachments": {},
   "cell_type": "markdown",
   "metadata": {},
   "source": [
    "# READ in Images and Import as arrays"
   ]
  },
  {
   "cell_type": "code",
   "execution_count": 18,
   "metadata": {},
   "outputs": [
    {
     "name": "stdout",
     "output_type": "stream",
     "text": [
      "array size for family (135, 540, 960, 3)\n"
     ]
    }
   ],
   "source": [
    "# READ in each image from each folder\n",
    "SCALE_FACTOR = 2\n",
    "folder_path = './Frames_family'\n",
    "family_frame = [] #array for all files\n",
    "# Loop through each file in the folder\n",
    "for filename in os.listdir(folder_path):\n",
    "    # Check if the file is an image\n",
    "    if filename.endswith('.jpg') or filename.endswith('.png'):\n",
    "        # Open the image using PIL\n",
    "        image = Image.open(os.path.join(folder_path, filename))\n",
    "        #resize:\n",
    "        # Get the original width and height of the image\n",
    "        original_width, original_height = image.size\n",
    "        #rescale to half size\n",
    "        image = image.resize((original_width // SCALE_FACTOR, original_height // SCALE_FACTOR))\n",
    "        array1 = np.array(image)\n",
    "        family_frame.append(array1)\n",
    "family_frame = np.array(family_frame)\n",
    "print(\"array size for family\",np.shape(family_frame))"
   ]
  },
  {
   "cell_type": "code",
   "execution_count": 19,
   "metadata": {},
   "outputs": [
    {
     "name": "stdout",
     "output_type": "stream",
     "text": [
      "array size for colors (135, 288, 432, 4)\n"
     ]
    }
   ],
   "source": [
    "# READ in each image from colors family\n",
    "folder_path = './Colors_family'\n",
    "family_colors = [] #array for all fi\n",
    "# Loop through each file in the folder\n",
    "for filename in os.listdir(folder_path):\n",
    "    # Check if the file is an image\n",
    "    if filename.endswith('.jpg') or filename.endswith('.png'):\n",
    "        # Open the image using PIL\n",
    "        image = Image.open(os.path.join(folder_path, filename))\n",
    "        array1 = np.array(image)\n",
    "        family_colors.append(array1)\n",
    "family_colors = np.array(family_colors)\n",
    "print(\"array size for colors\",np.shape(family_colors))"
   ]
  },
  {
   "cell_type": "code",
   "execution_count": 20,
   "metadata": {},
   "outputs": [],
   "source": [
    "#concat each image\n",
    "for i in range(len(family_colors)):\n",
    "    frame = family_frame[i]\n",
    "    colors = family_colors[i]\n",
    "    # Get the height and width of each image\n",
    "    height1, width1 = frame.shape[:2] #check this split, should be first 2 dims\n",
    "    height2, width2 = colors.shape[:2]  \n",
    "\n",
    "    #get the images again\n",
    "    image1 = Image.fromarray(frame)\n",
    "    image2 = Image.fromarray(colors)\n",
    "\n",
    "    # Create a new blank image with the required dimensions\n",
    "    new_image = Image.new('RGB', (width1 + width2, max(height1, height2)))\n",
    "\n",
    "    # Paste the first image onto the new image\n",
    "    new_image.paste(image1, (0, 0))\n",
    "\n",
    "    # Paste the second image onto the new image, next to the first image\n",
    "    new_image.paste(image2, (width1, 0))\n",
    "\n",
    "    # Save the concatenated image\n",
    "    new_image.save('./frames_and_colors/frame_w_colors_{index}.png'.format(index=i))\n",
    "\n",
    "\n"
   ]
  },
  {
   "cell_type": "code",
   "execution_count": null,
   "metadata": {},
   "outputs": [],
   "source": []
  }
 ],
 "metadata": {
  "kernelspec": {
   "display_name": "Python 3",
   "language": "python",
   "name": "python3"
  },
  "language_info": {
   "codemirror_mode": {
    "name": "ipython",
    "version": 3
   },
   "file_extension": ".py",
   "mimetype": "text/x-python",
   "name": "python",
   "nbconvert_exporter": "python",
   "pygments_lexer": "ipython3",
   "version": "3.9.13"
  },
  "orig_nbformat": 4
 },
 "nbformat": 4,
 "nbformat_minor": 2
}
